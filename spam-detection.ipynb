{
 "cells": [
  {
   "cell_type": "code",
   "execution_count": 1,
   "id": "5dfc6ff5-e8c8-4259-a5b7-59903f67939f",
   "metadata": {
    "tags": []
   },
   "outputs": [],
   "source": [
    "# import all necessary libraries and packages\n",
    "import matplotlib.pyplot as plt\n",
    "import nltk \n",
    "import numpy as np\n",
    "import pandas as pd \n",
    "import seaborn as sns \n",
    "import csv\n",
    "import chardet"
   ]
  },
  {
   "cell_type": "code",
   "execution_count": 2,
   "id": "f95a3f61-f72a-4102-85c8-37e53c90fbef",
   "metadata": {
    "tags": []
   },
   "outputs": [],
   "source": [
    "# import scikit-learn library and Naive Bayes classifier\n",
    "from sklearn.naive_bayes import MultinomialNB\n",
    "from sklearn.model_selection import train_test_split\n",
    "from sklearn.feature_extraction.text import TfidfVectorizer\n",
    "from sklearn.metrics import accuracy_score, precision_score, recall_score, f1_score, confusion_matrix"
   ]
  },
  {
   "cell_type": "code",
   "execution_count": 3,
   "id": "d3a1acd2",
   "metadata": {},
   "outputs": [
    {
     "name": "stdout",
     "output_type": "stream",
     "text": [
      "Detected Encoding: ISO-8859-1\n"
     ]
    }
   ],
   "source": [
    "# opening csv file in binary mode\n",
    "with open(\"C:/Users/isabe/Documents/TextClassifier/spamtext.csv\", 'rb') as file:\n",
    "    raw_data = file.read(2000)\n",
    "    \n",
    "    # analysing byte sequence to determine a likely encoding\n",
    "    result = chardet.detect(raw_data)\n",
    "    encoding = result['encoding']\n",
    "    \n",
    "print(\"Detected Encoding:\", encoding)"
   ]
  },
  {
   "cell_type": "code",
   "execution_count": 4,
   "id": "6e3ec6f3-59e8-4297-8868-0fd3f641a02b",
   "metadata": {
    "tags": []
   },
   "outputs": [],
   "source": [
    "# import dataset of spam and ham text messages\n",
    "with open(\"C:/Users/isabe/Documents/TextClassifier/spamtext.csv\", 'r', encoding='ISO 8859-1') as file:\n",
    "    data = list(csv.reader(file))\n",
    "\n",
    "# convert list into pandas DataFrame\n",
    "data = pd.DataFrame(data[1:], columns=data[0])\n",
    "    \n",
    "# converting spam/ham column into binary labels\n",
    "# spam = 1, ham = 0\n",
    "data['v1'] = np.where(data['v1']=='spam',1,0)"
   ]
  },
  {
   "cell_type": "code",
   "execution_count": 5,
   "id": "986404e4",
   "metadata": {},
   "outputs": [
    {
     "data": {
      "text/html": [
       "<div>\n",
       "<style scoped>\n",
       "    .dataframe tbody tr th:only-of-type {\n",
       "        vertical-align: middle;\n",
       "    }\n",
       "\n",
       "    .dataframe tbody tr th {\n",
       "        vertical-align: top;\n",
       "    }\n",
       "\n",
       "    .dataframe thead th {\n",
       "        text-align: right;\n",
       "    }\n",
       "</style>\n",
       "<table border=\"1\" class=\"dataframe\">\n",
       "  <thead>\n",
       "    <tr style=\"text-align: right;\">\n",
       "      <th></th>\n",
       "      <th>v1</th>\n",
       "      <th>v2</th>\n",
       "      <th></th>\n",
       "      <th></th>\n",
       "      <th></th>\n",
       "    </tr>\n",
       "  </thead>\n",
       "  <tbody>\n",
       "    <tr>\n",
       "      <th>0</th>\n",
       "      <td>0</td>\n",
       "      <td>Go until jurong point, crazy.. Available only ...</td>\n",
       "      <td></td>\n",
       "      <td></td>\n",
       "      <td></td>\n",
       "    </tr>\n",
       "    <tr>\n",
       "      <th>1</th>\n",
       "      <td>0</td>\n",
       "      <td>Ok lar... Joking wif u oni...</td>\n",
       "      <td></td>\n",
       "      <td></td>\n",
       "      <td></td>\n",
       "    </tr>\n",
       "    <tr>\n",
       "      <th>2</th>\n",
       "      <td>1</td>\n",
       "      <td>Free entry in 2 a wkly comp to win FA Cup fina...</td>\n",
       "      <td></td>\n",
       "      <td></td>\n",
       "      <td></td>\n",
       "    </tr>\n",
       "    <tr>\n",
       "      <th>3</th>\n",
       "      <td>0</td>\n",
       "      <td>U dun say so early hor... U c already then say...</td>\n",
       "      <td></td>\n",
       "      <td></td>\n",
       "      <td></td>\n",
       "    </tr>\n",
       "    <tr>\n",
       "      <th>4</th>\n",
       "      <td>0</td>\n",
       "      <td>Nah I don't think he goes to usf, he lives aro...</td>\n",
       "      <td></td>\n",
       "      <td></td>\n",
       "      <td></td>\n",
       "    </tr>\n",
       "    <tr>\n",
       "      <th>5</th>\n",
       "      <td>1</td>\n",
       "      <td>FreeMsg Hey there darling it's been 3 week's n...</td>\n",
       "      <td></td>\n",
       "      <td></td>\n",
       "      <td></td>\n",
       "    </tr>\n",
       "    <tr>\n",
       "      <th>6</th>\n",
       "      <td>0</td>\n",
       "      <td>Even my brother is not like to speak with me. ...</td>\n",
       "      <td></td>\n",
       "      <td></td>\n",
       "      <td></td>\n",
       "    </tr>\n",
       "    <tr>\n",
       "      <th>7</th>\n",
       "      <td>0</td>\n",
       "      <td>As per your request 'Melle Melle (Oru Minnamin...</td>\n",
       "      <td></td>\n",
       "      <td></td>\n",
       "      <td></td>\n",
       "    </tr>\n",
       "    <tr>\n",
       "      <th>8</th>\n",
       "      <td>1</td>\n",
       "      <td>WINNER!! As a valued network customer you have...</td>\n",
       "      <td></td>\n",
       "      <td></td>\n",
       "      <td></td>\n",
       "    </tr>\n",
       "    <tr>\n",
       "      <th>9</th>\n",
       "      <td>1</td>\n",
       "      <td>Had your mobile 11 months or more? U R entitle...</td>\n",
       "      <td></td>\n",
       "      <td></td>\n",
       "      <td></td>\n",
       "    </tr>\n",
       "  </tbody>\n",
       "</table>\n",
       "</div>"
      ],
      "text/plain": [
       "   v1                                                 v2      \n",
       "0   0  Go until jurong point, crazy.. Available only ...      \n",
       "1   0                      Ok lar... Joking wif u oni...      \n",
       "2   1  Free entry in 2 a wkly comp to win FA Cup fina...      \n",
       "3   0  U dun say so early hor... U c already then say...      \n",
       "4   0  Nah I don't think he goes to usf, he lives aro...      \n",
       "5   1  FreeMsg Hey there darling it's been 3 week's n...      \n",
       "6   0  Even my brother is not like to speak with me. ...      \n",
       "7   0  As per your request 'Melle Melle (Oru Minnamin...      \n",
       "8   1  WINNER!! As a valued network customer you have...      \n",
       "9   1  Had your mobile 11 months or more? U R entitle...      "
      ]
     },
     "execution_count": 5,
     "metadata": {},
     "output_type": "execute_result"
    }
   ],
   "source": [
    "# checking first 10 rows of dataframe\n",
    "data.head(10)"
   ]
  },
  {
   "cell_type": "markdown",
   "id": "3b714118",
   "metadata": {},
   "source": [
    "First, we will divide the raw dataset into training and testing datasets. I will be using the Term Frequency-Inverse Document Frequency(TF-IDF) format to represent the training data. It is used to convert text data into a numerical matrix representation."
   ]
  },
  {
   "cell_type": "code",
   "execution_count": 6,
   "id": "0eb7c379",
   "metadata": {},
   "outputs": [
    {
     "name": "stdout",
     "output_type": "stream",
     "text": [
      "(4179, 40704)\n"
     ]
    }
   ],
   "source": [
    "# splitting the training and testing datasets\n",
    "X_train, X_test, Y_train, Y_test = train_test_split(data['v2'], \n",
    "                                                    data['v1'], \n",
    "                                                    random_state = 0)\n",
    "\n",
    "# create a feature matrix including n-grams of unigrams and bigrams)\n",
    "vectorizer = TfidfVectorizer(ngram_range=(1, 2))\n",
    "vectorizer.fit(X_train)\n",
    "X_train_vectorized = vectorizer.transform(X_train)\n",
    "\n",
    "# displays the training data set \n",
    "# (number of messages, number of n-grams)\n",
    "print(X_train_vectorized.toarray().shape)"
   ]
  },
  {
   "cell_type": "markdown",
   "id": "1a9faea6-6be1-4be6-8ce0-83a171f0a5ec",
   "metadata": {
    "tags": []
   },
   "source": [
    "### Baseline Performance"
   ]
  },
  {
   "cell_type": "markdown",
   "id": "99d17511",
   "metadata": {},
   "source": [
    "The results are as follows:  \n",
    "- 83.10% of spams caught (Predicted spam that was actual spam)\n",
    "- 0.18% legitimate messages blocked (Predicted spam that was actual ham)\n",
    "- 97.64% accuracy rate\n",
    "\n",
    "I can use these results as a benchmark to gauge the success of my Naive Bayes classifier."
   ]
  },
  {
   "cell_type": "markdown",
   "id": "760c6703-3546-44b0-9797-4f45ac81897c",
   "metadata": {},
   "source": [
    "### Classification Approach"
   ]
  },
  {
   "cell_type": "markdown",
   "id": "1c07ba2d",
   "metadata": {},
   "source": [
    "Using the sklearn API, we are creating a multinomial Naive Bayes model, and training it with the dataset. After which, we will apply the trained classifier to the test set. We will use the 'predict' method to obtain the predicted labels for the test set."
   ]
  },
  {
   "cell_type": "code",
   "execution_count": 7,
   "id": "be46d17e",
   "metadata": {},
   "outputs": [
    {
     "data": {
      "text/html": [
       "<style>#sk-container-id-1 {color: black;background-color: white;}#sk-container-id-1 pre{padding: 0;}#sk-container-id-1 div.sk-toggleable {background-color: white;}#sk-container-id-1 label.sk-toggleable__label {cursor: pointer;display: block;width: 100%;margin-bottom: 0;padding: 0.3em;box-sizing: border-box;text-align: center;}#sk-container-id-1 label.sk-toggleable__label-arrow:before {content: \"▸\";float: left;margin-right: 0.25em;color: #696969;}#sk-container-id-1 label.sk-toggleable__label-arrow:hover:before {color: black;}#sk-container-id-1 div.sk-estimator:hover label.sk-toggleable__label-arrow:before {color: black;}#sk-container-id-1 div.sk-toggleable__content {max-height: 0;max-width: 0;overflow: hidden;text-align: left;background-color: #f0f8ff;}#sk-container-id-1 div.sk-toggleable__content pre {margin: 0.2em;color: black;border-radius: 0.25em;background-color: #f0f8ff;}#sk-container-id-1 input.sk-toggleable__control:checked~div.sk-toggleable__content {max-height: 200px;max-width: 100%;overflow: auto;}#sk-container-id-1 input.sk-toggleable__control:checked~label.sk-toggleable__label-arrow:before {content: \"▾\";}#sk-container-id-1 div.sk-estimator input.sk-toggleable__control:checked~label.sk-toggleable__label {background-color: #d4ebff;}#sk-container-id-1 div.sk-label input.sk-toggleable__control:checked~label.sk-toggleable__label {background-color: #d4ebff;}#sk-container-id-1 input.sk-hidden--visually {border: 0;clip: rect(1px 1px 1px 1px);clip: rect(1px, 1px, 1px, 1px);height: 1px;margin: -1px;overflow: hidden;padding: 0;position: absolute;width: 1px;}#sk-container-id-1 div.sk-estimator {font-family: monospace;background-color: #f0f8ff;border: 1px dotted black;border-radius: 0.25em;box-sizing: border-box;margin-bottom: 0.5em;}#sk-container-id-1 div.sk-estimator:hover {background-color: #d4ebff;}#sk-container-id-1 div.sk-parallel-item::after {content: \"\";width: 100%;border-bottom: 1px solid gray;flex-grow: 1;}#sk-container-id-1 div.sk-label:hover label.sk-toggleable__label {background-color: #d4ebff;}#sk-container-id-1 div.sk-serial::before {content: \"\";position: absolute;border-left: 1px solid gray;box-sizing: border-box;top: 0;bottom: 0;left: 50%;z-index: 0;}#sk-container-id-1 div.sk-serial {display: flex;flex-direction: column;align-items: center;background-color: white;padding-right: 0.2em;padding-left: 0.2em;position: relative;}#sk-container-id-1 div.sk-item {position: relative;z-index: 1;}#sk-container-id-1 div.sk-parallel {display: flex;align-items: stretch;justify-content: center;background-color: white;position: relative;}#sk-container-id-1 div.sk-item::before, #sk-container-id-1 div.sk-parallel-item::before {content: \"\";position: absolute;border-left: 1px solid gray;box-sizing: border-box;top: 0;bottom: 0;left: 50%;z-index: -1;}#sk-container-id-1 div.sk-parallel-item {display: flex;flex-direction: column;z-index: 1;position: relative;background-color: white;}#sk-container-id-1 div.sk-parallel-item:first-child::after {align-self: flex-end;width: 50%;}#sk-container-id-1 div.sk-parallel-item:last-child::after {align-self: flex-start;width: 50%;}#sk-container-id-1 div.sk-parallel-item:only-child::after {width: 0;}#sk-container-id-1 div.sk-dashed-wrapped {border: 1px dashed gray;margin: 0 0.4em 0.5em 0.4em;box-sizing: border-box;padding-bottom: 0.4em;background-color: white;}#sk-container-id-1 div.sk-label label {font-family: monospace;font-weight: bold;display: inline-block;line-height: 1.2em;}#sk-container-id-1 div.sk-label-container {text-align: center;}#sk-container-id-1 div.sk-container {/* jupyter's `normalize.less` sets `[hidden] { display: none; }` but bootstrap.min.css set `[hidden] { display: none !important; }` so we also need the `!important` here to be able to override the default hidden behavior on the sphinx rendered scikit-learn.org. See: https://github.com/scikit-learn/scikit-learn/issues/21755 */display: inline-block !important;position: relative;}#sk-container-id-1 div.sk-text-repr-fallback {display: none;}</style><div id=\"sk-container-id-1\" class=\"sk-top-container\"><div class=\"sk-text-repr-fallback\"><pre>MultinomialNB(alpha=0.1)</pre><b>In a Jupyter environment, please rerun this cell to show the HTML representation or trust the notebook. <br />On GitHub, the HTML representation is unable to render, please try loading this page with nbviewer.org.</b></div><div class=\"sk-container\" hidden><div class=\"sk-item\"><div class=\"sk-estimator sk-toggleable\"><input class=\"sk-toggleable__control sk-hidden--visually\" id=\"sk-estimator-id-1\" type=\"checkbox\" checked><label for=\"sk-estimator-id-1\" class=\"sk-toggleable__label sk-toggleable__label-arrow\">MultinomialNB</label><div class=\"sk-toggleable__content\"><pre>MultinomialNB(alpha=0.1)</pre></div></div></div></div></div>"
      ],
      "text/plain": [
       "MultinomialNB(alpha=0.1)"
      ]
     },
     "execution_count": 7,
     "metadata": {},
     "output_type": "execute_result"
    }
   ],
   "source": [
    "#create the naive bayes classifier\n",
    "classifier = MultinomialNB(alpha = 0.1)\n",
    "\n",
    "# training the classifier with the training dataset\n",
    "classifier.fit(X_train_vectorized, Y_train)"
   ]
  },
  {
   "cell_type": "code",
   "execution_count": 8,
   "id": "7576e8f5",
   "metadata": {},
   "outputs": [
    {
     "name": "stdout",
     "output_type": "stream",
     "text": [
      "Accuracy: 98.34888729361091 %\n",
      "Precision: 99.43181818181817 %\n",
      "Recall: 88.83248730964468 %\n",
      "F1 score 93.8337801608579 %\n"
     ]
    }
   ],
   "source": [
    "# use the trained classifier to make predictions on the test dataset\n",
    "# convert test data with vectorizer\n",
    "predictions = classifier.predict(vectorizer.transform(X_test))\n",
    "\n",
    "accuracy = accuracy_score(Y_test, predictions)\n",
    "precision = precision_score(Y_test, predictions)\n",
    "recall = recall_score(Y_test, predictions)\n",
    "f1 = f1_score(Y_test, predictions)\n",
    "\n",
    "# displaying scores in % for easier visualisation\n",
    "print(\"Accuracy:\", 100 * accuracy, \"%\")\n",
    "print(\"Precision:\", 100 * precision, \"%\")\n",
    "print(\"Recall:\", 100 * recall, \"%\")\n",
    "print(\"F1 score\", 100 * f1, \"%\")"
   ]
  },
  {
   "cell_type": "code",
   "execution_count": 9,
   "id": "1b030fa4-95bb-4456-a40a-9d20d2774d45",
   "metadata": {},
   "outputs": [
    {
     "data": {
      "image/png": "[encoded data removed]",
      "text/plain": [
       "<Figure size 800x600 with 2 Axes>"
      ]
     },
     "metadata": {},
     "output_type": "display_data"
    }
   ],
   "source": [
    "# generate confusion matrix\n",
    "confM = confusion_matrix(Y_test, predictions)\n",
    "\n",
    "# create a dataframe \n",
    "confM_df = pd.DataFrame(confM, index=['Ham', 'Spam'], columns=['Ham', 'Spam'])\n",
    "\n",
    "# plot the confusion matrix table \n",
    "plt.figure(figsize=(8,6))\n",
    "sns.heatmap(confM_df, annot=True, cmap='Blues', fmt='g')\n",
    "plt.title('Confusion Matrix')\n",
    "plt.xlabel('Predicted values')\n",
    "plt.ylabel('Actual values')\n",
    "plt.show()"
   ]
  },
  {
   "cell_type": "markdown",
   "id": "cc6d9a9b-76a8-4432-9c61-f9152ab06ec7",
   "metadata": {},
   "source": [
    "### Evaluation"
   ]
  },
  {
   "cell_type": "markdown",
   "id": "73459de1",
   "metadata": {},
   "source": [
    "- Recall: 88.83%   \n",
    "The test values on my trained classifier has performed better than the baseline approach where 83.10% of spams caught. This means that 88.83% of predicted spam texts were actually spam messages. This is a relatively high recall value, which means that there is a low number of spam messages incorrectly classified (as ham/non-spam). \n",
    "\n",
    "- Precision: 99.43%   \n",
    "This means that 99.43% of predicted ham/non-spam texts were actually ham messages. This is a very high precision value, which means that there is an extremely low number of ham messages being incorrectly classified (as spam). \n",
    "\n",
    "- Accuracy: 98.35%   \n",
    "The 98.35% accuracy rate is higher than that of the baseline approach's Support ector Machines. However, due to the imbalanced nature of the dataset, this will not be part of the evaluation metrics. \n",
    "\n",
    "- Legitimate messages blocked: 1/1195  \n",
    "While also not part of my evaluation metrics, it is still worth noting that my trained classifier did have an error of 0.08% of legitimate messages blocked, which is still an improvement from the baseline approach's 0.18% error. \n",
    "\n",
    "- F1-score: 93.83%  \n",
    "Lastly, the F-measure had a relatively positive score which shows that the classifier had a fairly good performance and balance between recall and precision. To evaluate on the effectiveness of my classifier, I can safely say that the risk for false negatives is definitely higher than the risk for a false positive, which is what we seek in a spam detection classifier, to correctly identify spam messages with minimal incorrect filtration of legitimate messages.\n"
   ]
  },
  {
   "cell_type": "markdown",
   "id": "26d2249f",
   "metadata": {},
   "source": [
    "### References"
   ]
  },
  {
   "cell_type": "markdown",
   "id": "5571e717",
   "metadata": {},
   "source": [
    "1. https://www.researchgate.net/publication/258050187_Contributions_to_the_Study_of_SMS_Spam_Filtering_New_Collection_and_Results_preprint#pf9\n",
    "2. https://www.springboard.com/blog/data-science/bayes-spam-filter/\n",
    "3. https://www.analyticsvidhya.com/blog/2022/07/end-to-end-project-on-sms-email-spam-detection-using-naive-bayes/\n",
    "4. https://www.kaggle.com/datasets/uciml/sms-spam-collection-dataset?resource=download\n"
   ]
  }
 ],
 "metadata": {
  "kernelspec": {
   "display_name": "Python 3 (ipykernel)",
   "language": "python",
   "name": "python3"
  },
  "language_info": {
   "codemirror_mode": {
    "name": "ipython",
    "version": 3
   },
   "file_extension": ".py",
   "mimetype": "text/x-python",
   "name": "python",
   "nbconvert_exporter": "python",
   "pygments_lexer": "ipython3",
   "version": "3.11.3"
  }
 },
 "nbformat": 4,
 "nbformat_minor": 5
}
